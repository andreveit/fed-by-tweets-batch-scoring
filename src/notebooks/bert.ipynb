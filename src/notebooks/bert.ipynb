{
  "cells": [
    {
      "cell_type": "code",
      "execution_count": null,
      "metadata": {
        "colab": {
          "base_uri": "https://localhost:8080/"
        },
        "id": "dUryZeiRmx17",
        "outputId": "6ec936da-b664-4b69-f197-fc92c5493bb3"
      },
      "outputs": [
        {
          "name": "stdout",
          "output_type": "stream",
          "text": [
            "Looking in indexes: https://pypi.org/simple, https://us-python.pkg.dev/colab-wheels/public/simple/\n",
            "Requirement already satisfied: torch in /usr/local/lib/python3.7/dist-packages (1.12.1+cu113)\n",
            "Collecting transformers\n",
            "  Downloading transformers-4.21.1-py3-none-any.whl (4.7 MB)\n",
            "\u001b[K     |████████████████████████████████| 4.7 MB 7.8 MB/s \n",
            "\u001b[?25hRequirement already satisfied: tqdm in /usr/local/lib/python3.7/dist-packages (4.64.0)\n",
            "Requirement already satisfied: typing-extensions in /usr/local/lib/python3.7/dist-packages (from torch) (4.1.1)\n",
            "Collecting pyyaml>=5.1\n",
            "  Downloading PyYAML-6.0-cp37-cp37m-manylinux_2_5_x86_64.manylinux1_x86_64.manylinux_2_12_x86_64.manylinux2010_x86_64.whl (596 kB)\n",
            "\u001b[K     |████████████████████████████████| 596 kB 11.6 MB/s \n",
            "\u001b[?25hRequirement already satisfied: importlib-metadata in /usr/local/lib/python3.7/dist-packages (from transformers) (4.12.0)\n",
            "Collecting tokenizers!=0.11.3,<0.13,>=0.11.1\n",
            "  Downloading tokenizers-0.12.1-cp37-cp37m-manylinux_2_12_x86_64.manylinux2010_x86_64.whl (6.6 MB)\n",
            "\u001b[K     |████████████████████████████████| 6.6 MB 48.6 MB/s \n",
            "\u001b[?25hRequirement already satisfied: filelock in /usr/local/lib/python3.7/dist-packages (from transformers) (3.8.0)\n",
            "Requirement already satisfied: packaging>=20.0 in /usr/local/lib/python3.7/dist-packages (from transformers) (21.3)\n",
            "Requirement already satisfied: numpy>=1.17 in /usr/local/lib/python3.7/dist-packages (from transformers) (1.21.6)\n",
            "Requirement already satisfied: requests in /usr/local/lib/python3.7/dist-packages (from transformers) (2.23.0)\n",
            "Collecting huggingface-hub<1.0,>=0.1.0\n",
            "  Downloading huggingface_hub-0.8.1-py3-none-any.whl (101 kB)\n",
            "\u001b[K     |████████████████████████████████| 101 kB 8.5 MB/s \n",
            "\u001b[?25hRequirement already satisfied: regex!=2019.12.17 in /usr/local/lib/python3.7/dist-packages (from transformers) (2022.6.2)\n",
            "Requirement already satisfied: pyparsing!=3.0.5,>=2.0.2 in /usr/local/lib/python3.7/dist-packages (from packaging>=20.0->transformers) (3.0.9)\n",
            "Requirement already satisfied: zipp>=0.5 in /usr/local/lib/python3.7/dist-packages (from importlib-metadata->transformers) (3.8.1)\n",
            "Requirement already satisfied: chardet<4,>=3.0.2 in /usr/local/lib/python3.7/dist-packages (from requests->transformers) (3.0.4)\n",
            "Requirement already satisfied: urllib3!=1.25.0,!=1.25.1,<1.26,>=1.21.1 in /usr/local/lib/python3.7/dist-packages (from requests->transformers) (1.24.3)\n",
            "Requirement already satisfied: idna<3,>=2.5 in /usr/local/lib/python3.7/dist-packages (from requests->transformers) (2.10)\n",
            "Requirement already satisfied: certifi>=2017.4.17 in /usr/local/lib/python3.7/dist-packages (from requests->transformers) (2022.6.15)\n",
            "Installing collected packages: pyyaml, tokenizers, huggingface-hub, transformers\n",
            "  Attempting uninstall: pyyaml\n",
            "    Found existing installation: PyYAML 3.13\n",
            "    Uninstalling PyYAML-3.13:\n",
            "      Successfully uninstalled PyYAML-3.13\n",
            "Successfully installed huggingface-hub-0.8.1 pyyaml-6.0 tokenizers-0.12.1 transformers-4.21.1\n"
          ]
        }
      ],
      "source": [
        "!pip install torch transformers tqdm"
      ]
    },
    {
      "cell_type": "code",
      "execution_count": null,
      "metadata": {
        "id": "l6DjtsyRmge_"
      },
      "outputs": [],
      "source": [
        "import re\n",
        "import numpy as np\n",
        "import pandas as pd\n",
        "from tqdm import tqdm\n",
        "\n",
        "import torch\n",
        "from torch import nn\n",
        "from torch.utils.data import Dataset\n",
        "from torch.utils.data import DataLoader\n",
        "\n",
        "import matplotlib.pyplot  as plt\n",
        "\n",
        "from sklearn.model_selection import train_test_split\n",
        "from sklearn.metrics import classification_report\n",
        "from sklearn.metrics import accuracy_score\n",
        "\n",
        "from transformers import AutoTokenizer, AutoModel\n",
        "from transformers import BertModel, BertForSequenceClassification\n",
        "\n",
        "device = \"cuda\" if torch.cuda.is_available() else \"cpu\"\n"
      ]
    },
    {
      "cell_type": "code",
      "execution_count": null,
      "metadata": {
        "colab": {
          "base_uri": "https://localhost:8080/"
        },
        "id": "Q-vGeceHFflx",
        "outputId": "481b0729-4ad8-4072-85c2-8f773c857ba2"
      },
      "outputs": [
        {
          "name": "stderr",
          "output_type": "stream",
          "text": [
            "Some weights of the model checkpoint at neuralmind/bert-base-portuguese-cased were not used when initializing BertModel: ['cls.predictions.bias', 'cls.predictions.transform.dense.bias', 'cls.seq_relationship.weight', 'cls.predictions.transform.LayerNorm.bias', 'cls.predictions.decoder.weight', 'cls.predictions.transform.dense.weight', 'cls.seq_relationship.bias', 'cls.predictions.transform.LayerNorm.weight']\n",
            "- This IS expected if you are initializing BertModel from the checkpoint of a model trained on another task or with another architecture (e.g. initializing a BertForSequenceClassification model from a BertForPreTraining model).\n",
            "- This IS NOT expected if you are initializing BertModel from the checkpoint of a model that you expect to be exactly identical (initializing a BertForSequenceClassification model from a BertForSequenceClassification model).\n"
          ]
        }
      ],
      "source": [
        "class TwitterDataset(Dataset):\n",
        "    def __init__(self, df, tokenizer, max_length = 110):\n",
        "        super(TwitterDataset, self).__init__()\n",
        "        self.max_length = max_length\n",
        "\n",
        "        tweets = self.preprocess(df)\n",
        "        tweets = df.text.tolist()\n",
        "        labels = df.target.to_list()\n",
        "        \n",
        "        tokens = tokenizer(tweets, return_tensors='pt', max_length=self.max_length, padding=True, truncation=True).to(device)\n",
        "        \n",
        "        self.ids = tokens['input_ids']\n",
        "        self.mask = tokens['attention_mask']\n",
        "        \n",
        "        self.labels = torch.Tensor(labels).to(device)\n",
        "\n",
        "\n",
        "    @classmethod\n",
        "    def preprocess(cls, df):\n",
        "        # df = cls._add_subject(df)\n",
        "        tweets = cls._basic_cleanup(df.text.to_list())\n",
        "        return tweets\n",
        "\n",
        "    @staticmethod\n",
        "    def _basic_cleanup(corpus_list):\n",
        "        cleaned_corpus = []\n",
        "        for tweet in corpus_list:\n",
        "            tweet  = tweet = re.sub('((www\\.[^\\s]+)|(https?://[^\\s]+))','url',tweet)\n",
        "            tweet = tweet.replace('@', '')\n",
        "            tweet = re.sub('[\\n]+', ' ', tweet)\n",
        "            tweet = re.sub(' +', ' ', tweet)\n",
        "            cleaned_corpus.append(tweet)\n",
        "\n",
        "        return cleaned_corpus\n",
        "    \n",
        "    @staticmethod\n",
        "    def _add_subject(df):\n",
        "        df_bols = df[df.subject=='bolsonaro'].copy()\n",
        "        df_lula = df[df.subject=='lula'].copy()\n",
        "        df_bols.text = ['bolsonaro ' + tweet for tweet in df_bols[df_bols.subject=='bolsonaro'].text.tolist()]\n",
        "        df_lula.text = ['lula ' + tweet for tweet in df_lula[df_lula.subject=='lula'].text.tolist()]\n",
        "        return pd.concat([df_lula, df_bols]).reset_index(drop=True)\n",
        "\n",
        "\n",
        "    def __len__(self):\n",
        "        return len(self.ids)\n",
        "\n",
        "    def __getitem__(self, index):\n",
        "        return (self.ids[index], self.mask[index], self.labels[index])\n",
        "\n",
        "\n",
        "\n",
        "class BERTModel(nn.Module):\n",
        "    \n",
        "    def __init__(self, checkpoint, pass_gradients = False):\n",
        "        super(BERTModel, self).__init__()\n",
        "\n",
        "        # Bert\n",
        "        self.bert = self._load_bert_(checkpoint, pass_gradients)\n",
        "       \n",
        "        # Classification Head\n",
        "        self.l1 = nn.Linear(768, 256)\n",
        "        self.l2 = nn.Linear(256, 64)\n",
        "        self.l3 = nn.Linear(64, 1)\n",
        "\n",
        "    def _load_bert_(self, checkpoint, pass_gradients):\n",
        "        bert = BertModel.from_pretrained(checkpoint)\n",
        "        if not pass_gradients:\n",
        "            for param in bert.parameters():\n",
        "                param.requires_grad = False\n",
        "        return bert\n",
        "    \n",
        "\n",
        "    def forward(self, ids, mask):\n",
        "        bert_output = self.bert(ids, mask)\n",
        "        seq = bert_output['last_hidden_state']\n",
        "        out = self.l1(seq[:, 0, :].view(-1, 768))\n",
        "        out = self.l2(out)\n",
        "        out = self.l3(out)\n",
        "        return torch.sigmoid(out)\n",
        "\n",
        "\n",
        "def evaluate(model, data_loader, threshold=0.5, on_loop = True):\n",
        "   \n",
        "    sum_loss = 0\n",
        "    logits_bag, labels_bag = [], []\n",
        "    \n",
        "    with tqdm(data_loader) as tqdm_val:\n",
        "        for i, batch in enumerate(tqdm_val):\n",
        "            tqdm_val.set_description(f\"Evaluation\")\n",
        "            ids, mask, labels = batch\n",
        "            \n",
        "            with torch.no_grad():        \n",
        "                output = model(ids=ids, mask=mask).squeeze()\n",
        "\n",
        "            # Compute Loss\n",
        "            loss = criterion(output, labels)\n",
        "            sum_loss += loss.item()\n",
        "            loss_train_avg = sum_loss/ (i+1)\n",
        "\n",
        "            logits = output.cpu().detach().numpy()\n",
        "            labels = labels.detach().cpu().numpy()\n",
        "            logits_bag.append(logits)\n",
        "            labels_bag.append(labels)\n",
        "\n",
        "            tqdm_val.set_postfix(\n",
        "                {\n",
        "                'loss' : loss_train_avg, \n",
        "                }\n",
        "            )\n",
        "\n",
        "        \n",
        "        logits_bag = np.concatenate(logits_bag, axis=0)\n",
        "        labels_bag = np.concatenate(labels_bag, axis=0)\n",
        "        predictions = np.where(np.array(logits_bag) > threshold,1,0)\n",
        "        loss_avg = sum_loss/len(data_loader) \n",
        "        report = classification_report(labels_bag, predictions, target_names=['Negative', 'Positive'])\n",
        "        loss_avg = sum_loss/len(data_loader) \n",
        "\n",
        "        print(f'\\tComputed Loss: {loss_avg:.3f}')\n",
        "        if on_loop:\n",
        "            print(f'\\tAccuracy: {accuracy_score(labels_bag, predictions):.3f}\\n')\n",
        "            return loss_avg, accuracy_score(labels_bag, predictions)\n",
        "        \n",
        "        print()\n",
        "        print(report)   \n",
        "        return logits_bag, predictions\n",
        "\n",
        "\n",
        "\n",
        "def plot_history(history):\n",
        "    x_values = range(len(history['epoch_losses_val']))\n",
        "    fig, ax = plt.subplots(1,2, figsize = (18,7))\n",
        "\n",
        "    # Plots\n",
        "    ax[0].plot(x_values, history['epoch_losses_train'], color='b', label='Train')\n",
        "    ax[0].plot(x_values, history['epoch_losses_val'], color='red', label='Val')\n",
        "    ax[1].plot(x_values, history['epoch_acc_val'], color='black', label='Val Accuracy')\n",
        "\n",
        "    ax[0].set_title('Loss')\n",
        "    ax[1].set_title('Accurary')\n",
        "    plt.legend()\n",
        "\n",
        "\n",
        "\n",
        "def early_stopping(epoch_losses, pacience = 3, tol = 0.02):\n",
        "    '''\n",
        "    Model has to improve at least \"tol\" in \"pacience\" epochs.\n",
        "    '''\n",
        "    if len(epoch_losses) >= pacience:\n",
        "        improvement = abs(epoch_losses[-pacience] - epoch_losses[-1])\n",
        "        if improvement < tol:\n",
        "            return True\n",
        "    return False\n",
        "\n",
        "\n",
        "CHECKPOINT = \"neuralmind/bert-base-portuguese-cased\"\n",
        "\n",
        "batch_size = 32\n",
        "epochs = 30\n",
        "max_length = 512 #115\n",
        "\n",
        "# Learning rate\n",
        "lr_init = 1.5e-3\n",
        "gamma = 0.95\n",
        "\n",
        "# Early stopping\n",
        "pacience = 5\n",
        "tol = 0.01\n",
        "\n",
        "\n",
        "\n",
        "\n",
        "df = pd.read_parquet('../../data/2-intermediate/labels.parquet')\n",
        "\n",
        "# Tokenizer\n",
        "tokenizer = AutoTokenizer.from_pretrained(CHECKPOINT)\n",
        "\n",
        "# Model\n",
        "model = BERTModel(CHECKPOINT)\n",
        "model.to(device)\n",
        "\n",
        "# Schuduler and Optmizer\n",
        "optimizer = torch.optim.Adam(model.parameters(), lr=lr_init)\n",
        "scheduler = torch.optim.lr_scheduler.ExponentialLR(optimizer, gamma = gamma)\n",
        "criterion = nn.BCELoss()\n",
        "\n",
        "\n",
        "\n",
        "# Split\n",
        "tweets_train, tweets_test = train_test_split(df, test_size=0.2, random_state=42)\n",
        "tweets_val, tweets_test = train_test_split(df, test_size=0.5, random_state=42)\n",
        "\n",
        "# Data Loaders\n",
        "train_dataset = TwitterDataset(tweets_train, tokenizer, max_length=max_length)\n",
        "train_loader = DataLoader(train_dataset, batch_size=batch_size, shuffle = True)\n",
        "\n",
        "val_dataset = TwitterDataset(tweets_val, tokenizer, max_length=max_length)\n",
        "val_loader = DataLoader(val_dataset, batch_size=batch_size)\n",
        "\n",
        "test_dataset = TwitterDataset(tweets_test, tokenizer, max_length=max_length)\n",
        "test_loader = DataLoader(test_dataset, batch_size=batch_size)"
      ]
    },
    {
      "cell_type": "code",
      "execution_count": 7,
      "metadata": {
        "colab": {
          "base_uri": "https://localhost:8080/",
          "height": 1000
        },
        "id": "3CqDjQQYJJs_",
        "outputId": "d8665669-dda6-485f-fe65-ab6c9291f2d1"
      },
      "outputs": [
        {
          "name": "stderr",
          "output_type": "stream",
          "text": [
            "EPOCH 0: 100%|██████████| 58/58 [00:50<00:00,  1.15it/s, loss=0.68, lr=0.0015]\n",
            "Evaluation: 100%|██████████| 36/36 [00:33<00:00,  1.07it/s, loss=0.634]\n"
          ]
        },
        {
          "name": "stdout",
          "output_type": "stream",
          "text": [
            "\tComputed Loss: 0.634\n",
            "\tAccuracy: 0.652\n",
            "\n"
          ]
        },
        {
          "name": "stderr",
          "output_type": "stream",
          "text": [
            "EPOCH 1: 100%|██████████| 58/58 [00:54<00:00,  1.06it/s, loss=0.625, lr=0.00143]\n",
            "Evaluation: 100%|██████████| 36/36 [00:33<00:00,  1.06it/s, loss=0.61]\n"
          ]
        },
        {
          "name": "stdout",
          "output_type": "stream",
          "text": [
            "\tComputed Loss: 0.610\n",
            "\tAccuracy: 0.658\n",
            "\n"
          ]
        },
        {
          "name": "stderr",
          "output_type": "stream",
          "text": [
            "EPOCH 2: 100%|██████████| 58/58 [00:54<00:00,  1.06it/s, loss=0.619, lr=0.00135]\n",
            "Evaluation: 100%|██████████| 36/36 [00:34<00:00,  1.05it/s, loss=0.591]\n"
          ]
        },
        {
          "name": "stdout",
          "output_type": "stream",
          "text": [
            "\tComputed Loss: 0.591\n",
            "\tAccuracy: 0.682\n",
            "\n"
          ]
        },
        {
          "name": "stderr",
          "output_type": "stream",
          "text": [
            "EPOCH 3: 100%|██████████| 58/58 [00:54<00:00,  1.06it/s, loss=0.587, lr=0.00129]\n",
            "Evaluation: 100%|██████████| 36/36 [00:34<00:00,  1.06it/s, loss=0.584]\n"
          ]
        },
        {
          "name": "stdout",
          "output_type": "stream",
          "text": [
            "\tComputed Loss: 0.584\n",
            "\tAccuracy: 0.697\n",
            "\n"
          ]
        },
        {
          "name": "stderr",
          "output_type": "stream",
          "text": [
            "EPOCH 4: 100%|██████████| 58/58 [00:54<00:00,  1.07it/s, loss=0.577, lr=0.00122]\n",
            "Evaluation: 100%|██████████| 36/36 [00:34<00:00,  1.06it/s, loss=0.562]\n"
          ]
        },
        {
          "name": "stdout",
          "output_type": "stream",
          "text": [
            "\tComputed Loss: 0.562\n",
            "\tAccuracy: 0.704\n",
            "\n"
          ]
        },
        {
          "name": "stderr",
          "output_type": "stream",
          "text": [
            "EPOCH 5: 100%|██████████| 58/58 [00:54<00:00,  1.07it/s, loss=0.579, lr=0.00116]\n",
            "Evaluation: 100%|██████████| 36/36 [00:33<00:00,  1.06it/s, loss=0.569]\n"
          ]
        },
        {
          "name": "stdout",
          "output_type": "stream",
          "text": [
            "\tComputed Loss: 0.569\n",
            "\tAccuracy: 0.701\n",
            "\n"
          ]
        },
        {
          "name": "stderr",
          "output_type": "stream",
          "text": [
            "EPOCH 6: 100%|██████████| 58/58 [00:54<00:00,  1.07it/s, loss=0.565, lr=0.0011]\n",
            "Evaluation: 100%|██████████| 36/36 [00:33<00:00,  1.06it/s, loss=0.566]\n"
          ]
        },
        {
          "name": "stdout",
          "output_type": "stream",
          "text": [
            "\tComputed Loss: 0.566\n",
            "\tAccuracy: 0.701\n",
            "\n"
          ]
        },
        {
          "name": "stderr",
          "output_type": "stream",
          "text": [
            "EPOCH 7: 100%|██████████| 58/58 [00:54<00:00,  1.06it/s, loss=0.579, lr=0.00105]\n",
            "Evaluation: 100%|██████████| 36/36 [00:34<00:00,  1.06it/s, loss=0.557]\n"
          ]
        },
        {
          "name": "stdout",
          "output_type": "stream",
          "text": [
            "\tComputed Loss: 0.557\n",
            "\tAccuracy: 0.707\n",
            "\n"
          ]
        },
        {
          "name": "stderr",
          "output_type": "stream",
          "text": [
            "EPOCH 8: 100%|██████████| 58/58 [00:54<00:00,  1.06it/s, loss=0.549, lr=0.001]\n",
            "Evaluation: 100%|██████████| 36/36 [00:34<00:00,  1.06it/s, loss=0.542]\n"
          ]
        },
        {
          "name": "stdout",
          "output_type": "stream",
          "text": [
            "\tComputed Loss: 0.542\n",
            "\tAccuracy: 0.722\n",
            "\n"
          ]
        },
        {
          "name": "stderr",
          "output_type": "stream",
          "text": [
            "EPOCH 9: 100%|██████████| 58/58 [00:54<00:00,  1.06it/s, loss=0.547, lr=0.00095]\n",
            "Evaluation: 100%|██████████| 36/36 [00:34<00:00,  1.06it/s, loss=0.531]\n"
          ]
        },
        {
          "name": "stdout",
          "output_type": "stream",
          "text": [
            "\tComputed Loss: 0.531\n",
            "\tAccuracy: 0.731\n",
            "\n"
          ]
        },
        {
          "name": "stderr",
          "output_type": "stream",
          "text": [
            "EPOCH 10: 100%|██████████| 58/58 [00:54<00:00,  1.06it/s, loss=0.541, lr=0.0009]\n",
            "Evaluation: 100%|██████████| 36/36 [00:34<00:00,  1.06it/s, loss=0.526]\n"
          ]
        },
        {
          "name": "stdout",
          "output_type": "stream",
          "text": [
            "\tComputed Loss: 0.526\n",
            "\tAccuracy: 0.734\n",
            "\n"
          ]
        },
        {
          "name": "stderr",
          "output_type": "stream",
          "text": [
            "EPOCH 11: 100%|██████████| 58/58 [00:54<00:00,  1.06it/s, loss=0.543, lr=0.00085]\n",
            "Evaluation: 100%|██████████| 36/36 [00:34<00:00,  1.06it/s, loss=0.544]\n"
          ]
        },
        {
          "name": "stdout",
          "output_type": "stream",
          "text": [
            "\tComputed Loss: 0.544\n",
            "\tAccuracy: 0.728\n",
            "\n"
          ]
        },
        {
          "name": "stderr",
          "output_type": "stream",
          "text": [
            "EPOCH 12: 100%|██████████| 58/58 [00:54<00:00,  1.07it/s, loss=0.535, lr=0.00081]\n",
            "Evaluation: 100%|██████████| 36/36 [00:34<00:00,  1.06it/s, loss=0.527]\n"
          ]
        },
        {
          "name": "stdout",
          "output_type": "stream",
          "text": [
            "\tComputed Loss: 0.527\n",
            "\tAccuracy: 0.736\n",
            "\n"
          ]
        },
        {
          "name": "stderr",
          "output_type": "stream",
          "text": [
            "EPOCH 13: 100%|██████████| 58/58 [00:54<00:00,  1.06it/s, loss=0.53, lr=0.00077]\n",
            "Evaluation: 100%|██████████| 36/36 [00:34<00:00,  1.06it/s, loss=0.523]\n"
          ]
        },
        {
          "name": "stdout",
          "output_type": "stream",
          "text": [
            "\tComputed Loss: 0.523\n",
            "\tAccuracy: 0.732\n",
            "\n",
            "\n",
            "\n",
            "\n",
            "Early stopping - Validation Loss = 0.523, Validation Accuracy = 0.732\n",
            "\n",
            "\n",
            "Results on Test:\n"
          ]
        },
        {
          "name": "stderr",
          "output_type": "stream",
          "text": [
            "Evaluation: 100%|██████████| 36/36 [00:29<00:00,  1.22it/s, loss=0.582]\n"
          ]
        },
        {
          "name": "stdout",
          "output_type": "stream",
          "text": [
            "\tComputed Loss: 0.582\n",
            "\n",
            "              precision    recall  f1-score   support\n",
            "\n",
            "    Negative       0.73      0.62      0.67       561\n",
            "    Positive       0.68      0.79      0.73       585\n",
            "\n",
            "    accuracy                           0.70      1146\n",
            "   macro avg       0.71      0.70      0.70      1146\n",
            "weighted avg       0.71      0.70      0.70      1146\n",
            "\n",
            "\n",
            "\n",
            "Train Summary:\n"
          ]
        },
        {
          "data": {
            "image/png": "[encoded data removed]",
            "text/plain": [
              "<Figure size 1296x504 with 2 Axes>"
            ]
          },
          "metadata": {
            "needs_background": "light"
          },
          "output_type": "display_data"
        }
      ],
      "source": [
        "\n",
        "history = {\n",
        "    'epoch_losses_train':[],\n",
        "    'epoch_losses_val':[],\n",
        "    'epoch_acc_val':[],\n",
        "}\n",
        "\n",
        "for epoch in range(epochs):    \n",
        "    with tqdm(train_loader) as tqdm_epoch:\n",
        "        sum_loss = 0\n",
        "        \n",
        "        for i, batch in enumerate(tqdm_epoch):\n",
        "            tqdm_epoch.set_description(f\"EPOCH {epoch}\")\n",
        "        \n",
        "            ids, mask, labels = batch\n",
        "            \n",
        "            # Forward\n",
        "            output = model(ids=ids, mask=mask).squeeze()\n",
        "            loss = criterion(output, labels)\n",
        "\n",
        "            # Backward\n",
        "            optimizer.zero_grad() \n",
        "            loss.backward()\n",
        "            optimizer.step()\n",
        "            \n",
        "            # Compute Loss\n",
        "            sum_loss += loss.item()\n",
        "            loss_train_avg = sum_loss/ (i+1)\n",
        "\n",
        "            tqdm_epoch.set_postfix(\n",
        "                {\n",
        "                'loss' : loss_train_avg, \n",
        "                'lr' : round(scheduler.get_last_lr()[0],5)\n",
        "                }\n",
        "            )\n",
        "\n",
        "        history['epoch_losses_train'].append(loss_train_avg)\n",
        "        scheduler.step()\n",
        "\n",
        "        # Evaluate\n",
        "        loss_val, acc_val = evaluate(model, val_loader)\n",
        "        history['epoch_losses_val'].append(loss_val)\n",
        "        history['epoch_acc_val'].append(acc_val)\n",
        "\n",
        "        # Early Stopping\n",
        "        if early_stopping(history['epoch_losses_val'], pacience = pacience, tol = tol):\n",
        "            print(f'\\n\\n\\nEarly stopping - Validation Loss = {loss_val:.3f}, Validation Accuracy = {acc_val:.3f}')\n",
        "            break\n",
        "\n",
        "print('\\n\\nResults on Test:')\n",
        "logits_bag, predictions = evaluate(model, test_loader, on_loop=False)\n",
        "\n",
        "print('\\n\\nTrain Summary:')\n",
        "plot_history(history)"
      ]
    },
    {
      "cell_type": "code",
      "execution_count": null,
      "metadata": {
        "id": "IM06nr1IDTZe"
      },
      "outputs": [],
      "source": []
    }
  ],
  "metadata": {
    "accelerator": "GPU",
    "colab": {
      "collapsed_sections": [],
      "name": "BERT.ipynb",
      "provenance": []
    },
    "gpuClass": "standard",
    "kernelspec": {
      "display_name": "Python 3.8.5 ('.venv': venv)",
      "language": "python",
      "name": "python3"
    },
    "language_info": {
      "name": "python",
      "version": "3.8.5"
    },
    "vscode": {
      "interpreter": {
        "hash": "fbb48d45cdeafec3ab5bc02a1771fe267cca3674dfe2dea2fac9d9ad5e5aebaa"
      }
    }
  },
  "nbformat": 4,
  "nbformat_minor": 0
}
